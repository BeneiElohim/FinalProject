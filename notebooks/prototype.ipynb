{
 "cells": [
  {
   "cell_type": "markdown",
   "id": "efdfca05",
   "metadata": {},
   "source": [
    "## Prototype Overview"
   ]
  },
  {
   "cell_type": "markdown",
   "id": "43f62f6f",
   "metadata": {},
   "source": [
    "This notebook demonstrates **Signal Engine**, an end-to-end pipeline that:\n",
    "1. Ingests OHLCV data for MCD & TMO (strong cases) and COP & PFE (weak cases).\n",
    "2. Engineers technical indicators (momentum, trend, volatility, volume).\n",
    "3. Trains rule-based models (Decision Tree & RuleFit) plus an XGBoost surrogate.\n",
    "4. Back-tests signals in a walk-forward fashion with realistic fees."
   ]
  },
  {
   "cell_type": "code",
   "execution_count": null,
   "id": "1bffa563",
   "metadata": {},
   "outputs": [],
   "source": [
    "# prototype tickers: 2 “good” + 2 “fails”\n",
    "syms = [\"MCD\", \"TMO\", \"COP\", \"PFE\"]"
   ]
  },
  {
   "cell_type": "markdown",
   "id": "97df90ea",
   "metadata": {},
   "source": [
    "### Data Fetching\n",
    "- Download Open, High, Low, Close, Volume data for each ticker via `yfinance` CLI script.\n",
    "- Uses `auto_adjust=True` to apply splits/dividends.\n",
    "- Saves raw CSVs in `data/raw/{ticker}.csv`.\n",
    "- Covers a 10-year history to support multi-year walk-forward tests.\n"
   ]
  },
  {
   "cell_type": "code",
   "execution_count": null,
   "id": "66cf1c00",
   "metadata": {},
   "outputs": [],
   "source": [
    "!python ../src/ingestion/fetch_data.py --tickers MCD TMO COP PFE"
   ]
  },
  {
   "cell_type": "markdown",
   "id": "69fcc78e",
   "metadata": {},
   "source": [
    "### Data Cleaning\n",
    "- **Forward-fill** missing business-day data to avoid NaNs.\n",
    "- **Adjust** for splits/dividends via `yfinance auto_adjust`.\n",
    "- **Drop** duplicate timestamps; enforce OHLCV column order.\n"
   ]
  },
  {
   "cell_type": "code",
   "execution_count": null,
   "id": "20ea871e",
   "metadata": {},
   "outputs": [],
   "source": [
    "!python ../src/ingestion/clean_data.py --syms MCD TMO COP PFE\n"
   ]
  },
  {
   "cell_type": "markdown",
   "id": "a9263734",
   "metadata": {},
   "source": [
    "### Engineered Features\n",
    "- **Trend:** sma_5, sma_10, ema_20, ema_50, macd, macd_sig, macd_hist  \n",
    "- **Momentum:** roc_10, rsi_14  \n",
    "- **Volatility:** atr_14, vol_20d  \n",
    "- **Mean-Reversion:** bb_width, pct_b  \n",
    "- **Volume:** obv, vol_chg  \n",
    "- **Strength:** adx_14  \n",
    "Each captures a different regime signal for the rule engine.\n"
   ]
  },
  {
   "cell_type": "code",
   "execution_count": null,
   "id": "3ede959f",
   "metadata": {},
   "outputs": [],
   "source": [
    "!python ../src/features/compute_features.py --syms MCD TMO COP PFE\n"
   ]
  },
  {
   "cell_type": "markdown",
   "id": "f5f968cc",
   "metadata": {},
   "source": [
    "## Model Engines Overview\n",
    "\n",
    "This notebook uses **four** distinct model types to generate and interpret trading signals:\n",
    "\n",
    "1. **Decision Tree (Holdout)**  \n",
    "   - Trains a single shallow `DecisionTreeClassifier` on an 80/20 holdout split.  \n",
    "   - Exports human-readable “if–then” rules via `export_text`.  \n",
    "   - Serves as a quick, fully interpretable baseline.\n",
    "\n",
    "2. **Grid-Tuned Decision Tree**  \n",
    "   - Performs a time-series aware grid search over `max_depth` & `min_samples_leaf`.  \n",
    "   - Selects per-symbol probability thresholds (long vs flat) to maximize validation accuracy.  \n",
    "   - Retains full interpretability with optimized hyperparameters.\n",
    "\n",
    "3. **RuleFit Classifier**  \n",
    "   - Builds an ensemble of small trees plus an L1-penalized linear model for rules.  \n",
    "   - Extracts a **sparse** set of high-weight rules (`max_rules`) for readability.  \n",
    "   - Balances predictive power with compact rule lists.\n",
    "\n",
    "4. **XGBoost + Surrogate**  \n",
    "   - Trains a full `XGBClassifier` with randomized hyperparameter search and time-series CV.  \n",
    "   - Fits a shallow `DecisionTreeRegressor` on the model’s predicted probabilities to generate surrogate rules.  \n",
    "   - Leverages XGBoost’s accuracy while preserving a rule-based explanation layer.\n"
   ]
  },
  {
   "cell_type": "code",
   "execution_count": null,
   "id": "d89fce58",
   "metadata": {},
   "outputs": [],
   "source": [
    "!python ../src/models/train_models.py --mode holdout --syms MCD TMO COP PFE\n"
   ]
  },
  {
   "cell_type": "code",
   "execution_count": null,
   "id": "13b4c3c4",
   "metadata": {},
   "outputs": [],
   "source": [
    "!python ../src/models/grid_tree_search.py --syms MCD TMO COP PFE\n"
   ]
  },
  {
   "cell_type": "code",
   "execution_count": null,
   "id": "70c00222",
   "metadata": {},
   "outputs": [],
   "source": [
    "!python ../src/models/train_rulefit.py --syms MCD TMO COP PFE\n"
   ]
  },
  {
   "cell_type": "code",
   "execution_count": null,
   "id": "c632a1dd",
   "metadata": {},
   "outputs": [],
   "source": [
    "!python ../src/models/xgb_surrogate.py --syms MCD TMO COP PFE\n"
   ]
  },
  {
   "cell_type": "markdown",
   "id": "82d9db29",
   "metadata": {},
   "source": [
    "### Back-Test Configuration\n",
    "- **Walk-forward:** 5 y train => 1 y validation => 1 y test (rolled yearly).  \n",
    "- **Capital:** \\$100 000.  \n",
    "- **Fees:** 5 bp on entry & exit.  \n",
    "- **Signals:** next-day open; fully invested vs flat."
   ]
  },
  {
   "cell_type": "code",
   "execution_count": null,
   "id": "87f7a01c",
   "metadata": {},
   "outputs": [],
   "source": [
    "!python ../backtest_run.py --syms MCD TMO COP PFE\n"
   ]
  }
 ],
 "metadata": {
  "kernelspec": {
   "display_name": "venv",
   "language": "python",
   "name": "python3"
  },
  "language_info": {
   "codemirror_mode": {
    "name": "ipython",
    "version": 3
   },
   "file_extension": ".py",
   "mimetype": "text/x-python",
   "name": "python",
   "nbconvert_exporter": "python",
   "pygments_lexer": "ipython3",
   "version": "3.13.3"
  }
 },
 "nbformat": 4,
 "nbformat_minor": 5
}

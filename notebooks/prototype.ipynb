{
 "cells": [
  {
   "cell_type": "markdown",
   "id": "efdfca05",
   "metadata": {},
   "source": [
    "# Prototype for the Financial Advisor Template - Interpretable Strategy Engine"
   ]
  },
  {
   "cell_type": "code",
   "execution_count": 14,
   "id": "1bffa563",
   "metadata": {},
   "outputs": [],
   "source": [
    "# prototype tickers: 2 “good” + 2 “fails”\n",
    "syms = [\"MCD\", \"TMO\", \"COP\", \"PFE\"]"
   ]
  },
  {
   "cell_type": "markdown",
   "id": "97df90ea",
   "metadata": {},
   "source": [
    "\t## 1 Data ingestion & cleaning"
   ]
  },
  {
   "cell_type": "code",
   "execution_count": 15,
   "id": "66cf1c00",
   "metadata": {},
   "outputs": [
    {
     "name": "stdout",
     "output_type": "stream",
     "text": [
      "Saved data for MCD to c:\\FinalProject\\src\\ingestion\\..\\..\\data\\raw/MCD.csv\n",
      "Saved data for TMO to c:\\FinalProject\\src\\ingestion\\..\\..\\data\\raw/TMO.csv\n",
      "Saved data for COP to c:\\FinalProject\\src\\ingestion\\..\\..\\data\\raw/COP.csv\n",
      "Saved data for PFE to c:\\FinalProject\\src\\ingestion\\..\\..\\data\\raw/PFE.csv\n"
     ]
    },
    {
     "name": "stderr",
     "output_type": "stream",
     "text": [
      "\n",
      "[                       0%                       ]\n",
      "[**********************50%                       ]  2 of 4 completed\n",
      "[**********************75%***********            ]  3 of 4 completed\n",
      "[*********************100%***********************]  4 of 4 completed\n"
     ]
    }
   ],
   "source": [
    "!python ../src/ingestion/fetch_data.py --tickers MCD TMO COP PFE"
   ]
  },
  {
   "cell_type": "code",
   "execution_count": 16,
   "id": "20ea871e",
   "metadata": {},
   "outputs": [
    {
     "name": "stdout",
     "output_type": "stream",
     "text": [
      "Cleaned → c:\\FinalProject\\src\\ingestion\\..\\..\\data\\processed\\MCD.csv (2726 rows)\n",
      "Cleaned → c:\\FinalProject\\src\\ingestion\\..\\..\\data\\processed\\TMO.csv (2726 rows)\n",
      "Cleaned → c:\\FinalProject\\src\\ingestion\\..\\..\\data\\processed\\COP.csv (2726 rows)\n",
      "Cleaned → c:\\FinalProject\\src\\ingestion\\..\\..\\data\\processed\\PFE.csv (2726 rows)\n"
     ]
    },
    {
     "name": "stderr",
     "output_type": "stream",
     "text": [
      "c:\\FinalProject\\src\\ingestion\\clean_data.py:19: FutureWarning: DataFrame.fillna with 'method' is deprecated and will raise in a future version. Use obj.ffill() or obj.bfill() instead.\n",
      "  df.fillna(method='ffill', inplace=True)                # propagate last good\n",
      "c:\\FinalProject\\src\\ingestion\\clean_data.py:19: FutureWarning: DataFrame.fillna with 'method' is deprecated and will raise in a future version. Use obj.ffill() or obj.bfill() instead.\n",
      "  df.fillna(method='ffill', inplace=True)                # propagate last good\n",
      "c:\\FinalProject\\src\\ingestion\\clean_data.py:19: FutureWarning: DataFrame.fillna with 'method' is deprecated and will raise in a future version. Use obj.ffill() or obj.bfill() instead.\n",
      "  df.fillna(method='ffill', inplace=True)                # propagate last good\n",
      "c:\\FinalProject\\src\\ingestion\\clean_data.py:19: FutureWarning: DataFrame.fillna with 'method' is deprecated and will raise in a future version. Use obj.ffill() or obj.bfill() instead.\n",
      "  df.fillna(method='ffill', inplace=True)                # propagate last good\n"
     ]
    }
   ],
   "source": [
    "!python ../src/ingestion/clean_data.py --syms MCD TMO COP PFE\n"
   ]
  },
  {
   "cell_type": "code",
   "execution_count": 17,
   "id": "3ede959f",
   "metadata": {},
   "outputs": [
    {
     "name": "stdout",
     "output_type": "stream",
     "text": [
      "→ Features for MCD: 2677 rows, 19 cols\n",
      "→ Features for TMO: 2677 rows, 19 cols\n",
      "→ Features for COP: 2677 rows, 19 cols\n",
      "→ Features for PFE: 2677 rows, 19 cols\n"
     ]
    }
   ],
   "source": [
    "!python ../src/features/compute_features.py --syms MCD TMO COP PFE\n"
   ]
  },
  {
   "cell_type": "code",
   "execution_count": 18,
   "id": "d89fce58",
   "metadata": {},
   "outputs": [
    {
     "name": "stdout",
     "output_type": "stream",
     "text": [
      "→ Saved COP.json (3 total entries)\n",
      "→ Saved MCD.json (3 total entries)\n",
      "→ Saved PFE.json (3 total entries)\n",
      "→ Saved TMO.json (3 total entries)\n"
     ]
    },
    {
     "name": "stderr",
     "output_type": "stream",
     "text": [
      "c:\\FinalProject\\src\\models\\train_models.py:119: DeprecationWarning: datetime.datetime.utcnow() is deprecated and scheduled for removal in a future version. Use timezone-aware objects to represent datetimes in UTC: datetime.datetime.now(datetime.UTC).\n",
      "  'timestamp': datetime.utcnow().isoformat() + 'Z'\n",
      "c:\\FinalProject\\src\\models\\train_models.py:119: DeprecationWarning: datetime.datetime.utcnow() is deprecated and scheduled for removal in a future version. Use timezone-aware objects to represent datetimes in UTC: datetime.datetime.now(datetime.UTC).\n",
      "  'timestamp': datetime.utcnow().isoformat() + 'Z'\n",
      "c:\\FinalProject\\src\\models\\train_models.py:119: DeprecationWarning: datetime.datetime.utcnow() is deprecated and scheduled for removal in a future version. Use timezone-aware objects to represent datetimes in UTC: datetime.datetime.now(datetime.UTC).\n",
      "  'timestamp': datetime.utcnow().isoformat() + 'Z'\n",
      "c:\\FinalProject\\src\\models\\train_models.py:119: DeprecationWarning: datetime.datetime.utcnow() is deprecated and scheduled for removal in a future version. Use timezone-aware objects to represent datetimes in UTC: datetime.datetime.now(datetime.UTC).\n",
      "  'timestamp': datetime.utcnow().isoformat() + 'Z'\n"
     ]
    }
   ],
   "source": [
    "!python ../src/models/train_models.py --mode holdout --syms MCD TMO COP PFE\n"
   ]
  },
  {
   "cell_type": "code",
   "execution_count": 19,
   "id": "13b4c3c4",
   "metadata": {},
   "outputs": [
    {
     "name": "stdout",
     "output_type": "stream",
     "text": [
      "√ COP  cv_acc=-inf  saved→c:\\FinalProject\\src\\models/../../data/strategies/COP_grid.json\n",
      "√ MCD  cv_acc=0.5048  saved→c:\\FinalProject\\src\\models/../../data/strategies/MCD_grid.json\n",
      "√ PFE  cv_acc=0.4231  saved→c:\\FinalProject\\src\\models/../../data/strategies/PFE_grid.json\n",
      "√ TMO  cv_acc=0.5484  saved→c:\\FinalProject\\src\\models/../../data/strategies/TMO_grid.json\n"
     ]
    }
   ],
   "source": [
    "!python ../src/models/grid_tree_search.py --syms MCD TMO COP PFE\n"
   ]
  },
  {
   "cell_type": "code",
   "execution_count": 20,
   "id": "70c00222",
   "metadata": {},
   "outputs": [
    {
     "name": "stdout",
     "output_type": "stream",
     "text": [
      "Starting RuleFit training...\n",
      "Using 4 cores for parallel processing...\n",
      "√ COP  acc=0.507  rules=122  time=62.32s\n",
      "√ MCD  acc=0.494  rules=121  time=52.34s\n",
      "√ PFE  acc=0.532  rules=122  time=30.2s\n",
      "√ TMO  acc=0.539  rules=122  time=37.82s\n"
     ]
    },
    {
     "name": "stderr",
     "output_type": "stream",
     "text": [
      "\n",
      "Training RuleFit models:   0%|          | 0/4 [00:00<?, ?symbol/s]\n",
      "Training RuleFit models:  25%|██▌       | 1/4 [01:04<03:13, 64.61s/symbol]\n",
      "Training RuleFit models: 100%|██████████| 4/4 [01:04<00:00, 16.15s/symbol]\n"
     ]
    }
   ],
   "source": [
    "!python ../src/models/train_rulefit.py --syms MCD TMO COP PFE\n"
   ]
  },
  {
   "cell_type": "code",
   "execution_count": 21,
   "id": "c632a1dd",
   "metadata": {},
   "outputs": [
    {
     "name": "stdout",
     "output_type": "stream",
     "text": [
      "√ COP: 5 windows saved\n",
      "√ MCD: 5 windows saved\n",
      "√ PFE: 5 windows saved\n",
      "√ TMO: 5 windows saved\n"
     ]
    }
   ],
   "source": [
    "!python ../src/models/xgb_surrogate.py --syms MCD TMO COP PFE\n"
   ]
  },
  {
   "cell_type": "code",
   "execution_count": 26,
   "id": "87f7a01c",
   "metadata": {},
   "outputs": [
    {
     "name": "stdout",
     "output_type": "stream",
     "text": [
      "\n",
      "=== DT BACK-TEST RESULTS ===\n",
      "\n",
      "    Total Return [%] Sharpe Ratio Max Drawdown [%]\n",
      "MCD       384.003202     1.193072        20.013062\n",
      "TMO       919.123533     1.338137         17.20898\n",
      "COP       634.494042     0.879463        56.322498\n",
      "PFE       186.689349     0.740888        32.984734\n",
      "\n",
      "MCD – Decision Tree rules (first 12 lines):\n",
      "|--- ret_1d <= 0.02\n",
      "|   |--- adx_14 <= 52.01\n",
      "|   |   |--- macd_sig <= -2.60\n",
      "|   |   |   |--- class: 1\n",
      "|   |   |--- macd_sig >  -2.60\n",
      "|   |   |   |--- roc_10 <= 1.30\n",
      "|   |   |   |   |--- class: 1\n",
      "|   |   |   |--- roc_10 >  1.30\n",
      "|   |   |   |   |--- class: 0\n",
      "|   |--- adx_14 >  52.01\n",
      "|   |   |--- class: 1\n",
      "|--- ret_1d >  0.02\n",
      "\n",
      "TMO – Decision Tree rules (first 12 lines):\n",
      "|--- bb_width <= 0.05\n",
      "|   |--- atr_14 <= 2.25\n",
      "|   |   |--- macd_hist <= -0.24\n",
      "|   |   |   |--- class: 0\n",
      "|   |   |--- macd_hist >  -0.24\n",
      "|   |   |   |--- class: 1\n",
      "|   |--- atr_14 >  2.25\n",
      "|   |   |--- bb_width <= 0.04\n",
      "|   |   |   |--- class: 1\n",
      "|   |   |--- bb_width >  0.04\n",
      "|   |   |   |--- class: 1\n",
      "|--- bb_width >  0.05\n",
      "\n",
      "COP – Decision Tree rules (first 12 lines):\n",
      "|--- vol_chg <= -0.27\n",
      "|   |--- ema_20 <= 46.99\n",
      "|   |   |--- ema_20 <= 36.28\n",
      "|   |   |   |--- class: 0\n",
      "|   |   |--- ema_20 >  36.28\n",
      "|   |   |   |--- class: 0\n",
      "|   |--- ema_20 >  46.99\n",
      "|   |   |--- ret_1d <= 0.00\n",
      "|   |   |   |--- class: 1\n",
      "|   |   |--- ret_1d >  0.00\n",
      "|   |   |   |--- class: 0\n",
      "|--- vol_chg >  -0.27\n",
      "\n",
      "PFE – Decision Tree rules (first 12 lines):\n",
      "|--- vol_chg <= -0.31\n",
      "|   |--- bb_width <= 0.07\n",
      "|   |   |--- class: 0\n",
      "|   |--- bb_width >  0.07\n",
      "|   |   |--- bb_width <= 0.11\n",
      "|   |   |   |--- class: 0\n",
      "|   |   |--- bb_width >  0.11\n",
      "|   |   |   |--- class: 0\n",
      "|--- vol_chg >  -0.31\n",
      "|   |--- ema_50 <= 43.89\n",
      "|   |   |--- atr_14 <= 1.21\n",
      "|   |   |   |--- obv <= 2090382848.00\n",
      "\n",
      "=== GRID BACK-TEST RESULTS ===\n",
      "\n",
      "    Total Return [%] Sharpe Ratio Max Drawdown [%]\n",
      "MCD              0.0          inf              NaN\n",
      "TMO       -42.460257    -0.397583        48.821954\n",
      "COP        -7.155316    -0.008432        38.182784\n",
      "PFE         2.717613     0.142964        58.188498\n",
      "\n",
      "MCD – Grid-DT rules (first 12 lines):\n",
      "|--- adx_14 <= 57.21\n",
      "|   |--- roc_10 <= 0.96\n",
      "|   |   |--- pct_b <= 0.44\n",
      "|   |   |   |--- class: 0\n",
      "|   |   |--- pct_b >  0.44\n",
      "|   |   |   |--- class: 0\n",
      "|   |--- roc_10 >  0.96\n",
      "|   |   |--- vol_chg <= 0.29\n",
      "|   |   |   |--- class: 0\n",
      "|   |   |--- vol_chg >  0.29\n",
      "|   |   |   |--- class: 1\n",
      "|--- adx_14 >  57.21\n",
      "\n",
      "TMO – Grid-DT rules (first 12 lines):\n",
      "|--- vol_chg <= -0.01\n",
      "|   |--- atr_14 <= 12.23\n",
      "|   |   |--- vol_20d <= 0.01\n",
      "|   |   |   |--- bb_width <= 0.05\n",
      "|   |   |   |   |--- class: 0\n",
      "|   |   |   |--- bb_width >  0.05\n",
      "|   |   |   |   |--- class: 1\n",
      "|   |   |--- vol_20d >  0.01\n",
      "|   |   |   |--- ret_1d <= 0.00\n",
      "|   |   |   |   |--- class: 0\n",
      "|   |   |   |--- ret_1d >  0.00\n",
      "|   |   |   |   |--- class: 0\n",
      "\n",
      "COP – Grid-DT rules (first 12 lines):\n",
      "|--- atr_14 <= 0.69\n",
      "|   |--- vol_chg <= -0.03\n",
      "|   |   |--- class: 0\n",
      "|   |--- vol_chg >  -0.03\n",
      "|   |   |--- atr_14 <= 0.67\n",
      "|   |   |   |--- class: 0\n",
      "|   |   |--- atr_14 >  0.67\n",
      "|   |   |   |--- class: 0\n",
      "|--- atr_14 >  0.69\n",
      "|   |--- obv <= -89707000.00\n",
      "|   |   |--- vol_20d <= 0.04\n",
      "|   |   |   |--- sma_5 <= 27.78\n",
      "\n",
      "PFE – Grid-DT rules (first 12 lines):\n",
      "|--- obv <= 2480504576.00\n",
      "|   |--- vol_chg <= 1.51\n",
      "|   |   |--- adx_14 <= 9.80\n",
      "|   |   |   |--- class: 0\n",
      "|   |   |--- adx_14 >  9.80\n",
      "|   |   |   |--- class: 0\n",
      "|   |--- vol_chg >  1.51\n",
      "|   |   |--- ema_50 <= 28.44\n",
      "|   |   |   |--- class: 1\n",
      "|   |   |--- ema_50 >  28.44\n",
      "|   |   |   |--- class: 0\n",
      "|--- obv >  2480504576.00\n",
      "\n",
      "=== RULEFIT BACK-TEST RESULTS ===\n",
      "\n",
      "    Total Return [%] Sharpe Ratio Max Drawdown [%]\n",
      "MCD         5.162651     0.174584         5.924014\n",
      "TMO       -49.356245    -0.728407        49.356245\n",
      "COP        22.467757     0.758098         7.092372\n",
      "PFE         30.60321     0.716524         4.128239\n",
      "\n",
      "MCD – RuleFit top-rules (coef | rule):\n",
      "-1.3741 │ macd <= -5.38621 and macd_hist > 0.11824\n",
      " 0.8868 │ bb_width <= 0.05529 and macd <= 3.83344 and obv <= 90754648.0\n",
      " 0.8516 │ macd_hist > 1.70982\n",
      " 0.7377 │ bb_width <= 0.05695 and pct_b <= 0.03287\n",
      "-0.6726 │ ret_1d > -0.00662 and vol_chg > 0.84025\n",
      "\n",
      "TMO – RuleFit top-rules (coef | rule):\n",
      "-2.1699 │ obv > 268130200.0\n",
      "-1.1540 │ obv > 272407008.0\n",
      " 1.0800 │ obv > 268719408.0\n",
      " 1.0560 │ obv > 268816848.0\n",
      " 0.8168 │ rsi_14 > 71.3898\n",
      "\n",
      "COP – RuleFit top-rules (coef | rule):\n",
      " 4.0979 │ atr_14 <= 0.68911\n",
      "-3.3506 │ atr_14 <= 0.68835\n",
      "-1.0247 │ atr_14 > 3.31437 and macd_hist <= 0.78385 and pct_b <= 0.27811\n",
      " 0.7141 │ macd_sig <= -4.45612\n",
      "-0.6947 │ ema_50 > 108.43203\n",
      "\n",
      "PFE – RuleFit top-rules (coef | rule):\n",
      " 1.3938 │ macd_sig <= -1.05309\n",
      "-1.3048 │ obv > 2450217984.0\n",
      "-1.0761 │ ret_1d > 0.02264\n",
      " 0.9713 │ ret_1d > 0.0177\n",
      "-0.8295 │ macd_sig <= -0.89708\n",
      "\n",
      "=== XGB BACK-TEST RESULTS ===\n",
      "\n",
      "    Total Return [%] Sharpe Ratio Max Drawdown [%]\n",
      "MCD        43.184862     0.545199         8.294312\n",
      "TMO       161.180964      1.43011        13.204714\n",
      "COP    146041.572951     3.769645        13.681254\n",
      "PFE        63.121697     0.982628         6.391294\n"
     ]
    }
   ],
   "source": [
    "!python ../backtest_run.py --syms MCD TMO COP PFE\n"
   ]
  },
  {
   "cell_type": "code",
   "execution_count": null,
   "id": "cbc04f05",
   "metadata": {},
   "outputs": [
    {
     "ename": "ImportError",
     "evalue": "attempted relative import with no known parent package",
     "output_type": "error",
     "traceback": [
      "\u001b[31m---------------------------------------------------------------------------\u001b[39m",
      "\u001b[31mImportError\u001b[39m                               Traceback (most recent call last)",
      "\u001b[36mCell\u001b[39m\u001b[36m \u001b[39m\u001b[32mIn[43]\u001b[39m\u001b[32m, line 2\u001b[39m\n\u001b[32m      1\u001b[39m \u001b[38;5;28;01mimport\u001b[39;00m\u001b[38;5;250m \u001b[39m\u001b[34;01mimportlib\u001b[39;00m\n\u001b[32m----> \u001b[39m\u001b[32m2\u001b[39m \u001b[38;5;28;01mfrom\u001b[39;00m\u001b[38;5;250m \u001b[39m\u001b[34;01m.\u001b[39;00m\u001b[38;5;250m \u001b[39m\u001b[38;5;28;01mimport\u001b[39;00m backtest_run \u001b[38;5;28;01mas\u001b[39;00m bt\n\u001b[32m      3\u001b[39m \u001b[38;5;28;01mimport\u001b[39;00m\u001b[38;5;250m \u001b[39m\u001b[34;01mpandas\u001b[39;00m\u001b[38;5;250m \u001b[39m\u001b[38;5;28;01mas\u001b[39;00m\u001b[38;5;250m \u001b[39m\u001b[34;01mpd\u001b[39;00m\n\u001b[32m      5\u001b[39m importlib.reload(bt)          \u001b[38;5;66;03m# pick up any edits\u001b[39;00m\n",
      "\u001b[31mImportError\u001b[39m: attempted relative import with no known parent package"
     ]
    }
   ],
   "source": [
    "import importlib\n",
    "import pandas as pd\n",
    "\n",
    "importlib.reload(bt)          # pick up any edits\n",
    "symbols = [\"MCD\", \"TMO\", \"COP\", \"PFE\"]\n",
    "stats    = bt.run_backtests(symbols)    # dict tag→DataFrame\n",
    "\n",
    "# build ROI table (Total Return %)\n",
    "roi = pd.concat({tag: df[\"Total Return [%]\"] for tag, df in stats.items()}, axis=1)\n",
    "roi.columns = roi.columns.str.upper()\n",
    "roi = roi.round(2).sort_index()\n",
    "\n",
    "display(\n",
    "    roi.style\n",
    "       .format(\"{:+.2f}%\")\n",
    "       .background_gradient(cmap=\"RdYlGn\", axis=None)\n",
    "       .set_caption(\"Total Return (%) across engines\")\n",
    ")"
   ]
  }
 ],
 "metadata": {
  "kernelspec": {
   "display_name": "venv",
   "language": "python",
   "name": "python3"
  },
  "language_info": {
   "codemirror_mode": {
    "name": "ipython",
    "version": 3
   },
   "file_extension": ".py",
   "mimetype": "text/x-python",
   "name": "python",
   "nbconvert_exporter": "python",
   "pygments_lexer": "ipython3",
   "version": "3.13.3"
  }
 },
 "nbformat": 4,
 "nbformat_minor": 5
}
